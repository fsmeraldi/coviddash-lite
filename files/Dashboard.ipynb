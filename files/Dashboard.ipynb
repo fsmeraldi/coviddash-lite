{
 "cells": [
  {
   "cell_type": "code",
   "execution_count": null,
   "metadata": {},
   "outputs": [],
   "source": [
    "%matplotlib inline\n",
    "import pandas as pd\n",
    "import numpy as np\n",
    "import matplotlib.pyplot as plt\n",
    "from matplotlib import cm # colormaps\n",
    "import ipywidgets as wdg\n",
    "import datetime\n",
    "import json"
   ]
  },
  {
   "cell_type": "code",
   "execution_count": null,
   "metadata": {},
   "outputs": [],
   "source": [
    "import os\n",
    "display(os.getcwd())"
   ]
  },
  {
   "cell_type": "raw",
   "metadata": {
    "raw_mimetype": "text/html"
   },
   "source": [
    "<!-- Global site tag (gtag.js) - Google Analytics -->\n",
    "<script async src=\"https://www.googletagmanager.com/gtag/js?id=G-EDLVTYZWW7\"></script>\n",
    "<script>\n",
    "  window.dataLayer = window.dataLayer || [];\n",
    "  function gtag(){dataLayer.push(arguments);}\n",
    "  gtag('js', new Date());\n",
    "\n",
    "  gtag('config', 'G-EDLVTYZWW7');\n",
    "</script>"
   ]
  },
  {
   "cell_type": "code",
   "execution_count": null,
   "metadata": {},
   "outputs": [],
   "source": [
    "# inject some CSS\n",
    "wdg.HTML(\"\"\"\\\n",
    "<style>\n",
    "html * {\n",
    "    font-family: Nexa, Arial;\n",
    "}\n",
    "\n",
    "a {\n",
    "    color: #764796;\n",
    "}\n",
    "\n",
    "a:hover {\n",
    "  text-decoration: underline;\n",
    "}\n",
    "\n",
    "a:active {\n",
    "  text-decoration: underline;\n",
    "}\n",
    "\n",
    ".dash-title {\n",
    "    color: #764796;\n",
    "    font-size: 3em;\n",
    "    line-height: 150%;\n",
    "}    \n",
    "\n",
    ".dash-subtitle {\n",
    "    color: #00AEB3;\n",
    "}\n",
    "\n",
    "strong {\n",
    "    color: #764796;\n",
    "}\n",
    "</style>\n",
    "\"\"\")\n"
   ]
  },
  {
   "cell_type": "code",
   "execution_count": null,
   "metadata": {},
   "outputs": [],
   "source": [
    "logo=wdg.Image(\n",
    "    value=open('resources/mebo.png','rb').read(),\n",
    "    format='png',\n",
    "    width=60,\n",
    "    height=48\n",
    "    )\n",
    "\n",
    "full_logo=wdg.Image(\n",
    "    value=open('resources/mebomine.png','rb').read(),\n",
    "    format='png',\n",
    "    layout=wdg.Layout(width=\"auto\", grid_area='logo', margin='0 0 0 0', object_fit='contain')\n",
    "    )\n",
    "\n",
    "title=wdg.HTML('<h1 class=\"dash-title\">Covid-19 OHB Patient Concern and Comorbidity Watch</h1>',\n",
    "               layout=wdg.Layout(grid_area='title', width=\"84%\", margin=\"0 0 0 0\"))\n",
    "\n",
    "\n",
    "wdg.GridBox(children=[full_logo, title],\n",
    "            layout=wdg.Layout(\n",
    "                width='100%',\n",
    "                height='auto',\n",
    "                grid_template_rows='auto auto',\n",
    "                grid_template_columns='84% 15%',\n",
    "                grid_template_areas='''\n",
    "                \". logo\"\n",
    "                \"title .\"\n",
    "                ''')\n",
    "           )"
   ]
  },
  {
   "cell_type": "code",
   "execution_count": null,
   "metadata": {},
   "outputs": [],
   "source": [
    "# make figures larger\n",
    "plt.rcParams['figure.figsize'] = [6, 4]\n",
    "plt.rcParams['figure.dpi'] = 100 # 200 e.g. is really fine, but slower\n",
    "cmap=cm.get_cmap('Set3') # colour map for plots"
   ]
  },
  {
   "cell_type": "code",
   "execution_count": null,
   "metadata": {},
   "outputs": [],
   "source": [
    "# useful widget layout specifications\n",
    "style={'description_width': 'initial'}\n",
    "txtlayout=wdg.Layout(width='50%', margin='3em 0 0 0')"
   ]
  },
  {
   "cell_type": "code",
   "execution_count": null,
   "metadata": {},
   "outputs": [],
   "source": [
    "# load general info\n",
    "with open(\"data/dataset_totals.dash.json\",\"rt\") as FILE:\n",
    "    totals=json.load(FILE)\n",
    "\n",
    "intro=(\"We survey three major multi-topic Online Health Boards (OHBs) based in the US and the UK \"+\n",
    "       \"and scan them for threads and posts related to the Covid-19 pandemic. We map patient concerns \"+\n",
    "       \"related to Covid symptoms, treatments and comorbidities, including mental health symptoms. \"+\n",
    "       f\"Our data covers the period <strong>from {totals['startdate']} to {totals['enddate']}</strong> and includes \"+\n",
    "       f\"<strong>{totals['posts']:,} posts</strong> from <strong>{totals['activeusers']:,} active users</strong>,\"+\n",
    "       f\" organised in <strong>{totals['threads']:,} threads</strong>.\")\n",
    "\n",
    "wdg.HTML(intro)\n",
    "       "
   ]
  },
  {
   "cell_type": "code",
   "execution_count": null,
   "metadata": {},
   "outputs": [],
   "source": [
    "title=wdg.HTML('<h2 class=\"dash-subtitle\">Active Covid-19 threads and posting behaviour</h2>')\n",
    "wdg.HBox([logo, title])"
   ]
  },
  {
   "cell_type": "code",
   "execution_count": null,
   "metadata": {
    "extensions": {
     "jupyter_dashboards": {
      "version": 1,
      "views": {
       "grid_default": {
        "col": 0,
        "height": 2,
        "hidden": false,
        "row": 2,
        "width": 12
       },
       "report_default": {}
      }
     }
    }
   },
   "outputs": [],
   "source": [
    "text=wdg.HTML(\"\"\"We track the number of posts about Covid, the numbers of thread \n",
    "started and the number of active Covid threads in the date range of interest. \n",
    "While a clear peak is visible in early March, interest remains consistent \n",
    "throughout the period. As we show, a sizeable proportion of users (from a \n",
    "peak of around 12% at the outset of the first wave down to around 5% in \n",
    "the later period) choose to start posting in a Covid thread.\"\"\")\n",
    "display(text)"
   ]
  },
  {
   "cell_type": "code",
   "execution_count": null,
   "metadata": {},
   "outputs": [],
   "source": [
    "comment=\"\"\"The number of posts containing references to Covid grows rapidly in early March and peaks around \n",
    "the beginning  of lockdown in most countries, but remains consistent throughout the period. The decline is \n",
    "less pronounced if we look at Covid related posts as a fraction of total posts, suggesting a general reduction\n",
    "in posting activity rather than reduced interest for the topic.\"\"\"\n",
    "\n",
    "\n",
    "postdf=pd.read_json(\"data/post_statistics.dash.json\")\n",
    "gtype=wdg.ToggleButtons(options=['Number', 'Percentage'],\n",
    "    description='Covid posts: show as ',\n",
    "    disabled=False,\n",
    "    button_style='', # 'success', 'info', 'warning', 'danger' or ''\n",
    "    tooltips=['Weekly no. of Covid posts', 'Covid posts as a fraction of total'],\n",
    "#     icons=['check'] * 3\n",
    "    style=style\n",
    ")\n",
    "\n",
    "postgraph=wdg.Output()\n",
    "content=wdg.VBox([gtype, postgraph])\n",
    "entry=wdg.HBox([content,wdg.HTML(comment, layout=txtlayout)])\n",
    "\n",
    "def postGraph(gtype):\n",
    "    postgraph.clear_output(wait=True)\n",
    "    with postgraph:\n",
    "        if gtype==\"Number\":\n",
    "            postdf['covid'].plot(cmap=cmap)\n",
    "        else:\n",
    "            postdf['covid'].div(postdf['all']).plot(cmap=cmap)\n",
    "        plt.show()\n",
    "    \n",
    "wdg.interactive_output(postGraph, {'gtype': gtype})\n",
    "\n",
    "display(entry)\n",
    "\n"
   ]
  },
  {
   "cell_type": "code",
   "execution_count": null,
   "metadata": {
    "extensions": {
     "jupyter_dashboards": {
      "version": 1,
      "views": {
       "grid_default": {
        "col": 0,
        "height": 5,
        "hidden": false,
        "row": 4,
        "width": 6
       },
       "report_default": {}
      }
     }
    }
   },
   "outputs": [],
   "source": [
    "comment=\"\"\"Likewise the number of Covid threads started per week peaks around the time of lockdown, and then \n",
    "declines rapidly. Many of these threads are however very short (one or two posts). The decline in the number \n",
    "of active threads is however slower, indicating some consolidation of the discussion around major threads.\"\"\"\n",
    "\n",
    "# add total number of posts and threads and users\n",
    "active_threads=pd.read_json(\"data/active_threads.dash.json\", typ='series')\n",
    "threadsdf=pd.read_json(\"data/thread_statistics.dash.json\")\n",
    "\n",
    "gtype=wdg.ToggleButtons(options=['Number', 'Percentage', 'Active'],\n",
    "    description='Covid threads started: ',\n",
    "    disabled=False,\n",
    "    button_style='', # 'success', 'info', 'warning', 'danger' or ''\n",
    "    tooltips=['No. of Covid threads started', 'Covid threads started as % of all threads', 'Active Covid threads'],\n",
    "#     icons=['check'] * 3\n",
    "    style=style\n",
    ")\n",
    "\n",
    "threadgraph=wdg.Output()\n",
    "content=wdg.VBox([gtype,threadgraph])\n",
    "entry=wdg.HBox([wdg.HTML(comment, layout=wdg.Layout(width='50%', margin='5em 0 0 0')),\n",
    "                             content])\n",
    "\n",
    "def threadGraph(gtype):\n",
    "    threadgraph.clear_output(wait=True)\n",
    "    with threadgraph:\n",
    "        if gtype==\"Number\":\n",
    "            threadsdf['covid'].plot(cmap=cmap)\n",
    "        elif gtype==\"Percentage\":\n",
    "            threadsdf['covid'].div(threadsdf['all']).plot(cmap=cmap)\n",
    "        else:\n",
    "            active_threads.plot(cmap=cmap)\n",
    "        plt.show()\n",
    "    \n",
    "wdg.interactive_output(threadGraph, {'gtype': gtype})\n",
    "\n",
    "display(entry)\n"
   ]
  },
  {
   "cell_type": "code",
   "execution_count": null,
   "metadata": {
    "extensions": {
     "jupyter_dashboards": {
      "version": 1,
      "views": {
       "grid_default": {
        "col": 6,
        "height": 5,
        "hidden": false,
        "row": 4,
        "width": 6
       },
       "report_default": {}
      }
     }
    }
   },
   "outputs": [],
   "source": [
    "comment=\"\"\"The number of users who write their first contribution in a Covid thread likewise shows a peak \n",
    "and then stabilises at around 5% of total. Especially during the early phase of the pandemic, these users may\n",
    "have been \"lurkers\" who have been spurred into posting by the Covid emergency.\"\"\"\n",
    "\n",
    "# add total number of posts and threads and users\n",
    "firstpostdf=pd.read_json(\"data/first_post_thread_topic.dash.json\")\n",
    "\n",
    "gtype=wdg.ToggleButtons(options=['Number', 'Percentage'],\n",
    "    description='New users posting on Covid: ',\n",
    "    disabled=False,\n",
    "    button_style='', # 'success', 'info', 'warning', 'danger' or ''\n",
    "    tooltips=['No. of 1st time posters writing about Covid', \n",
    "             '% of 1st time posters writing about Covid'],\n",
    "#     icons=['check'] * 3\n",
    "    style=style\n",
    ")\n",
    "\n",
    "firstpostgraph=wdg.Output()\n",
    "content=wdg.VBox([gtype,firstpostgraph])\n",
    "entry=wdg.HBox([content, wdg.HTML(comment, layout=txtlayout)])\n",
    "\n",
    "def firstPostGraph(gtype):\n",
    "    firstpostgraph.clear_output(wait=True)\n",
    "    with firstpostgraph:\n",
    "        if gtype==\"Number\":\n",
    "            firstpostdf['covid'].plot(cmap=cmap)\n",
    "        else:\n",
    "            firstpostdf['covid'].div(firstpostdf['all']).plot(cmap=cmap)\n",
    "        plt.show()\n",
    "    \n",
    "wdg.interactive_output(firstPostGraph, {'gtype': gtype})\n",
    "\n",
    "display(entry) "
   ]
  },
  {
   "cell_type": "code",
   "execution_count": null,
   "metadata": {},
   "outputs": [],
   "source": [
    "title=wdg.HTML('<h2 class=\"dash-subtitle\">Threads about comorbid conditions</h2>')\n",
    "wdg.HBox([logo, title])"
   ]
  },
  {
   "cell_type": "code",
   "execution_count": null,
   "metadata": {
    "extensions": {
     "jupyter_dashboards": {
      "version": 1,
      "views": {
       "grid_default": {
        "col": 0,
        "height": 2,
        "hidden": false,
        "row": 9,
        "width": 12
       },
       "report_default": {}
      }
     }
    }
   },
   "outputs": [],
   "source": [
    "txt=\"\"\"We scan thread titles for signs that they are about Covid and broad categories of comorbid conditions.\n",
    "We consider mental health problems, heart disease/stroke, diabetes, cancer, autoimmune diseases, and \n",
    "respiratory diseases. Use the interactive controls to explore this dataset. As can be seen, heart \n",
    "disease and stroke were frequently cited comorbidities in the early days of the pandemic; towards \n",
    "the end of the period we cover, the discussion of comorbidities shifts towards cancer, respiratory \n",
    "and autoimmune diseases. Mental health conditions remain important throughout the period.\"\"\"\n",
    "\n",
    "display(wdg.HTML(txt))"
   ]
  },
  {
   "cell_type": "code",
   "execution_count": null,
   "metadata": {},
   "outputs": [],
   "source": [
    "comorbiditydf=pd.read_json(\"data/thread_comorbidity_counts.dash.json\")\n",
    "comorbidityweighteddf=pd.read_json(\"data/thread_comorbidity_weighted.dash.json\")"
   ]
  },
  {
   "cell_type": "code",
   "execution_count": null,
   "metadata": {
    "extensions": {
     "jupyter_dashboards": {
      "version": 1,
      "views": {
       "grid_default": {
        "col": 2,
        "height": 9,
        "hidden": false,
        "row": 11,
        "width": 10
       },
       "report_default": {}
      }
     }
    }
   },
   "outputs": [],
   "source": [
    "\n",
    "\n",
    "\n",
    "sectors=wdg.SelectMultiple(\n",
    "    options=['mental', 'heart/stroke', 'diabetes', 'cancer', 'autoimmune', 'respiratory'],\n",
    "    value=['mental', 'heart/stroke', 'diabetes', 'cancer', 'autoimmune', 'respiratory'],\n",
    "    #rows=10,\n",
    "    #description='Comorbidity',\n",
    "    disabled=False\n",
    ")\n",
    "\n",
    "datestrings = [(i.strftime('%b-%d'), i) for i in comorbiditydf.index]\n",
    "dates=wdg.SelectionRangeSlider(\n",
    "    options=datestrings,\n",
    "    index=(0, len(datestrings)-1),\n",
    "    #description='Months (2015)',\n",
    "    disabled=False,\n",
    "    continuous_update=False,\n",
    "    tooltips='Select date range for pie chart'\n",
    ")\n",
    "\n",
    "other=wdg.ToggleButton(\n",
    "    value=False,\n",
    "    disabled=False,\n",
    "    button_style='', # 'success', 'info', 'warning', 'danger' or ''\n",
    "    tooltip='Include threads mentioning any other comorbidity or none',\n",
    "    icon='check' # (FontAwesome names without the `fa-` prefix)\n",
    ")\n",
    "\n",
    "\n",
    "weighting=wdg.RadioButtons(\n",
    "    options=['one single unit', 'its length in posts'],\n",
    "    value='one single unit', # Defaults to 'pineapple'\n",
    "    #    layout={'width': 'max-content'}, # If the items' names are long\n",
    "    disabled=False\n",
    ")\n",
    "\n",
    "\n",
    "form_item_layout = wdg.Layout(\n",
    "    display='flex',\n",
    "    flex_flow='row',\n",
    "    justify_content='space-between'\n",
    ")\n",
    "\n",
    "# event handler for animation\n",
    "def on_value_change(event):\n",
    "    start=event['new']\n",
    "    stop=start+30 if start>0 else len(datestrings)-1\n",
    "    with pieplot:\n",
    "        dates.index=(start, stop)\n",
    "        pieChart(sectors.value,dates.value, other.value, weighting.value)\n",
    "\n",
    "animate=wdg.Play(value=0, min=0, max=len(datestrings)-31, step=7, interval=1000, disabled=False)\n",
    "animate.observe(on_value_change, names='value')\n",
    "\n",
    "form_items = [\n",
    "    wdg.Box([wdg.Label(value='Date range (2020)'), dates], layout=form_item_layout),\n",
    "    wdg.Box([wdg.Label(value='Animate date range'), animate], layout=form_item_layout),\n",
    "    wdg.Box([wdg.Label(value='Comorbid conditions'), sectors], layout=form_item_layout),\n",
    "    wdg.Box([wdg.Label(value='Include threads with other/no comorbidity'), other], layout=form_item_layout),\n",
    "    wdg.Box([wdg.Label(value='Count each thread as'), weighting], layout=form_item_layout),\n",
    "]\n",
    "\n",
    "form = wdg.Box(form_items, layout=wdg.Layout(\n",
    "    display='flex',\n",
    "    flex_flow='column',\n",
    "    # border='solid 2px',\n",
    "    align_items='stretch',\n",
    "    width='50%',\n",
    "    margin='2em 2em 0 0'\n",
    "))\n",
    "\n",
    "pieplot=wdg.Output(layout=wdg.Layout(\n",
    "    display='flex',\n",
    "    flex_flow='column',\n",
    "    # border='solid 2px',\n",
    "    align_items='stretch',\n",
    "    #width='40%'\n",
    "    height='22em'\n",
    "    ))\n",
    "\n",
    "entry=wdg.HBox([form, pieplot])\n",
    "\n",
    "def pieChart(sectors,dates, other, weighting):\n",
    "    if \"unit\" in weighting:\n",
    "        datadf=comorbiditydf\n",
    "    else:\n",
    "        datadf=comorbidityweighteddf\n",
    "    ccountsdf=datadf.loc[dates[0]:dates[1], :].sum()\n",
    "    sectors=list(sectors)\n",
    "    if other:\n",
    "        sectors.append('other/none')\n",
    "    labels=ccountsdf[sectors].index\n",
    "    counts=ccountsdf[sectors].to_numpy()\n",
    "    pieplot.clear_output(wait=True)\n",
    "    with pieplot:\n",
    "        if len(sectors)<=1: \n",
    "            print (\"\\n\\n\\nUse CTRL-Click to select more than one condition\")\n",
    "            return\n",
    "        if ccountsdf[sectors].sum()==0:\n",
    "            print(\"\\n\\n\\nNo data - please select a wider date range\")\n",
    "            return\n",
    "        # extract colors from colourmap\n",
    "        colours = cmap(range(len(sectors)))\n",
    "        plt.pie(counts, labels=labels, colors=colours)\n",
    "        plt.show()\n",
    "\n",
    "\n",
    "    \n",
    "wdg.interactive_output(pieChart, {'sectors': sectors, 'dates': dates, 'other': other,\n",
    "                                  'weighting': weighting})\n",
    "display(entry)\n"
   ]
  },
  {
   "cell_type": "code",
   "execution_count": null,
   "metadata": {},
   "outputs": [],
   "source": [
    "title=wdg.HTML('<h2 class=\"dash-subtitle\">Concerns of posters</h2>')\n",
    "wdg.HBox([logo, title])"
   ]
  },
  {
   "cell_type": "code",
   "execution_count": null,
   "metadata": {
    "extensions": {
     "jupyter_dashboards": {
      "version": 1,
      "views": {
       "grid_default": {
        "col": 0,
        "height": 2,
        "hidden": false,
        "row": 20,
        "width": 12
       },
       "report_default": {}
      }
     }
    }
   },
   "outputs": [],
   "source": [
    "txt=\"\"\"We survey users who post in Covid threads throughout the period. We scan a three-week window \n",
    "centred around each post and check if the author has in that time posted anywhere on the OHB about ICU,\n",
    "Covid symptoms, treatments such as remdesivir or the controversial hydroxychloroquine, the use of masks,\n",
    "vaccines, but also mental health symptoms such as anxiety, worrying, depression.  Mental health symptoms\n",
    "are predominant across the entire period, but especially towards the beginning.  Mentions of symptoms,\n",
    "the use of masks and the search for a vaccine are also common topics. In early May, about 10% of posters\n",
    "express concerns about intensive care, while the discussion of hydroxychloroquine and the (less mediatic)\n",
    "remdesivir remains limited.\"\"\"\n",
    "\n",
    "wdg.HTML(txt)"
   ]
  },
  {
   "cell_type": "code",
   "execution_count": null,
   "metadata": {},
   "outputs": [],
   "source": [
    "concernsdf=pd.read_json(\"data/covid_poster_concerns.dash.json\")"
   ]
  },
  {
   "cell_type": "code",
   "execution_count": null,
   "metadata": {
    "extensions": {
     "jupyter_dashboards": {
      "version": 1,
      "views": {
       "grid_default": {
        "col": 2,
        "height": 8,
        "hidden": false,
        "row": 22,
        "width": 10
       },
       "report_default": {}
      }
     }
    }
   },
   "outputs": [],
   "source": [
    "concerns=wdg.SelectMultiple(\n",
    "    options=['mental health', 'intensive care', 'symptoms', 'masks', 'vaccine', 'quinine', 'remdesivir'],\n",
    "    value=['mental health', 'intensive care', 'symptoms', 'masks', 'vaccine', 'quinine', 'remdesivir'],\n",
    "    #rows=10,\n",
    "    description=\"Posters' concerns\",\n",
    "    disabled=False,\n",
    "    style=style\n",
    ")\n",
    "\n",
    "ttable={'mental health': 'mental', 'intensive care': 'intensive', 'symptoms': 'symptom', \n",
    "        'masks': 'mask'}\n",
    "\n",
    "gtype=wdg.ToggleButtons(options=['Number', 'Percentage'],\n",
    "    description='Show posts as: ',\n",
    "    disabled=False,\n",
    "    button_style='', # 'success', 'info', 'warning', 'danger' or ''\n",
    "    tooltips=['Number of posters mentioning concern', 'Posters mentioning concern as fraction of total'],\n",
    "    style=style\n",
    ")\n",
    "\n",
    "form=wdg.VBox([concerns, gtype], layout=wdg.Layout(margin='2em 0 0 0'))\n",
    "\n",
    "concernsplot=wdg.Output()\n",
    "\n",
    "entry=wdg.HBox([concernsplot, form])\n",
    "\n",
    "\n",
    "# add option to show absolute numbers\n",
    "def concernsGraph(concerns, gtype):\n",
    "    columns=[ttable.get(x,x) for x in concerns]\n",
    "    concernsplot.clear_output(wait=True)\n",
    "    with concernsplot:\n",
    "        if len(columns)==0:\n",
    "            print(\"\\n\\nClick on a list item to select a concern \")\n",
    "            print(\"(CTRL-Click to select more than one)\\t\")\n",
    "            return\n",
    "        if gtype=='Number':\n",
    "            concernsdf[columns].plot(cmap=cmap)\n",
    "        else:\n",
    "            concernsdf[columns].div(concernsdf['author'], axis=0).plot(cmap=cmap)\n",
    "        plt.show()\n",
    "        \n",
    "\n",
    "wdg.interactive_output(concernsGraph, {'concerns': concerns, 'gtype': gtype})\n",
    "display (entry)\n"
   ]
  },
  {
   "cell_type": "code",
   "execution_count": null,
   "metadata": {},
   "outputs": [],
   "source": [
    "title=wdg.HTML('<h2 class=\"dash-subtitle\">Bibliography</h2>')\n",
    "display(title)\n",
    "wdg.HTML(\"\"\"<ul>\n",
    "<li>Rashmi Patel¹, Fabrizio Smeraldi¹, Maryam Abdollahyan, Jessica Irving, Conrad Bessant: \n",
    "Analysis of mental and physical disorders associated with COVID-19 in online health forums: a natural \n",
    "language processing study, BMJ Open 2021;11:e056601,  \n",
    "<a href=\"https://bmjopen.bmj.com/content/11/11/e056601\">doi: 10.1136/bmjopen-2021-056601</a>.</li>\n",
    "<li>Rashmi Patel¹, Fabrizio Smeraldi¹, Maryam Abdollahyan, Jessica Irving, Conrad Bessant: \n",
    "Investigating mental and physical disorders associated with COVID-19 in online health forums, medRxiv, \n",
    "December 2020, \n",
    "<a href=\"https://doi.org/10.1101/2020.12.14.20248155\">doi: 10.1101/2020.12.14.20248155v1</a>.\n",
    "</li>\n",
    "</ul>\n",
    "(¹ Joint first authors)\"\"\")"
   ]
  },
  {
   "cell_type": "code",
   "execution_count": null,
   "metadata": {},
   "outputs": [],
   "source": [
    "title=wdg.HTML('<h2 class=\"dash-subtitle\">Contact</h2>')\n",
    "display(title)\n",
    "wdg.HTML(\"\"\"For more information or comments about this dashboard, \n",
    "         feel free to contact us through the \n",
    "         <a href=\"https://mebomine.com/\">Mebomine website</a>.\"\"\")"
   ]
  },
  {
   "cell_type": "code",
   "execution_count": null,
   "metadata": {},
   "outputs": [],
   "source": [
    "title=wdg.HTML('<h2 class=\"dash-subtitle\">Acknowledgements</h2>')\n",
    "display(title)\n",
    "wdg.HTML(\"\"\"We gratefully acknowledge the support of:\"\"\")"
   ]
  },
  {
   "cell_type": "code",
   "execution_count": null,
   "metadata": {},
   "outputs": [],
   "source": [
    "logolayout=wdg.Layout(margin='0 16px 0 0', \n",
    "                      object_fit=\"contain\") # preserve aspect ratio\n",
    "\n",
    "capai=wdg.Image(\n",
    "    value=open('resources/cap-ai.png','rb').read(),\n",
    "    format='png',\n",
    "    width=\"8%\",\n",
    "    layout=logolayout\n",
    "    )\n",
    "ati=wdg.Image(\n",
    "    value=open('resources/alanturing.png','rb').read(),\n",
    "    format='png',\n",
    "    width=\"8%\",\n",
    "    layout=logolayout\n",
    "    )\n",
    "azure=wdg.Image(\n",
    "    value=open('resources/azure.png','rb').read(),\n",
    "    format='png',\n",
    "    width=\"8%\",\n",
    "    layout=logolayout\n",
    "    )\n",
    "epsrc=wdg.Image(\n",
    "    value=open('resources/epsrc.png','rb').read(),\n",
    "    format='png',\n",
    "    width=\"8%\",\n",
    "    layout=logolayout\n",
    "    )\n",
    "qmw=wdg.Image(\n",
    "    value=open('resources/qmul.png','rb').read(),\n",
    "    format='png',\n",
    "    width=\"12%\",\n",
    "    layout=logolayout # wdg.Layout(margin='0 0 0 10px')\n",
    "    )\n",
    "qmi=wdg.Image(\n",
    "    value=open('resources/qmi.png','rb').read(),\n",
    "    format='png',\n",
    "    width=\"12%\",\n",
    "    layout=logolayout # wdg.Layout(margin='0 0 0 10px')\n",
    "    )\n",
    "kings=wdg.Image(\n",
    "    value=open('resources/kcl.png','rb').read(),\n",
    "    format='png',\n",
    "    width=\"8%\",\n",
    "    layout=logolayout\n",
    ")\n",
    "nhs=wdg.Image(\n",
    "    value=open('resources/nhs.png','rb').read(),\n",
    "    format='png',\n",
    "    width=\"8%\",\n",
    "    layout=logolayout\n",
    ")\n",
    "\n",
    "ack=wdg.HBox([ati, azure, capai, epsrc, kings, nhs, qmi, qmw])\n",
    "display(ack)"
   ]
  },
  {
   "cell_type": "code",
   "execution_count": null,
   "metadata": {},
   "outputs": [],
   "source": [
    "wdg.HTML(\"\"\"Designed and developed by \n",
    "                    <a href=\"mailto:fabrizio@mebomine.com\">Fabrizio Smeraldi</a>.\"\"\")"
   ]
  }
 ],
 "metadata": {
  "celltoolbar": "Raw Cell Format",
  "kernelspec": {
   "display_name": "Python 3 (ipykernel)",
   "language": "python",
   "name": "python3"
  },
  "language_info": {
   "codemirror_mode": {
    "name": "ipython",
    "version": 3
   },
   "file_extension": ".py",
   "mimetype": "text/x-python",
   "name": "python",
   "nbconvert_exporter": "python",
   "pygments_lexer": "ipython3",
   "version": "3.10.12"
  }
 },
 "nbformat": 4,
 "nbformat_minor": 4
}
